{
 "cells": [
  {
   "cell_type": "code",
   "execution_count": 80,
   "metadata": {},
   "outputs": [],
   "source": [
    "def buildHTMLblock(path_to_htmlblock, to_be_replaced, to_replace_with):\n",
    "    \n",
    "    path_to_htmlblock = str(path_to_htmlblock)\n",
    "    to_be_replaced = list(to_be_replaced)\n",
    "    to_replace_with = list(to_replace_with)\n",
    "    \n",
    "    htmlblock = open(path_to_htmlblock, \"r\").read()\n",
    "    \n",
    "    for i in range(len(to_be_replaced)):\n",
    "        htmlblock = htmlblock.replace(str(to_be_replaced[i]), str(to_replace_with[i]))\n",
    "        \n",
    "    return htmlblock"
   ]
  },
  {
   "cell_type": "code",
   "execution_count": 88,
   "metadata": {},
   "outputs": [],
   "source": [
    "import bs4\n",
    "\n",
    "page = open(\"C:\\\\Users\\\\farad\\\\Downloads\\\\Website (1)\\\\Website\\\\web 2\\\\web\\\\candidates_list_2.html\",'r').read()\n",
    "soup = bs4.BeautifulSoup(page)\n",
    "k = soup.find_all('div', class_=\"emply-resume-list row mb-3\")\n",
    "companies = []\n",
    "for l in k:\n",
    "    logo = l.find('img')['src']\n",
    "    company = l.find('h4').find('a').contents[0].lstrip()\n",
    "    field = l.find('h5').find('span').contents[0]\n",
    "    location = l.find('p').contents[1].lstrip()\n",
    "    website = l.find_all('a')[2]['href']\n",
    "    companies.append([company, field, location, logo, website])"
   ]
  },
  {
   "cell_type": "code",
   "execution_count": 90,
   "metadata": {},
   "outputs": [],
   "source": [
    "#companies"
   ]
  },
  {
   "cell_type": "code",
   "execution_count": 91,
   "metadata": {},
   "outputs": [
    {
     "data": {
      "text/plain": [
       "18173"
      ]
     },
     "execution_count": 91,
     "metadata": {},
     "output_type": "execute_result"
    }
   ],
   "source": [
    "old = ['NUMBER. COMPANY_NAME','COMPANY_TYPE','COMPANY_LOCATION','COMPANY_LOGO','COMPANY_WEBSITE']\n",
    "block_template = \"html_blocks/Top20companylist.html\"\n",
    "\n",
    "newhtml = '\\n'.join([buildHTMLblock(block_template, old, c) for c in companies])\n",
    "\n",
    "out = open(\"html_blocks/topwomenblock.html\", \"w\")\n",
    "out.write(newhtml)"
   ]
  },
  {
   "cell_type": "code",
   "execution_count": 109,
   "metadata": {},
   "outputs": [
    {
     "data": {
      "text/plain": [
       "['html\\\\404.html',\n",
       " 'html\\\\about.html',\n",
       " 'html\\\\how.html',\n",
       " 'html\\\\index.html',\n",
       " 'html/selected_companies\\\\CocaCola.html',\n",
       " 'html/selected_companies\\\\Delta_Airlines.html',\n",
       " 'html/selected_companies\\\\Home_Depot.html',\n",
       " 'html/selected_companies\\\\Norfolk_Southern.html',\n",
       " 'html/selected_companies\\\\Time_Warner.html',\n",
       " 'html/top_companies\\\\top_atlanta.html',\n",
       " 'html/top_companies\\\\top_nationwide.html',\n",
       " 'html/top_companies\\\\top_women.html']"
      ]
     },
     "execution_count": 109,
     "metadata": {},
     "output_type": "execute_result"
    }
   ],
   "source": [
    "import glob\n",
    "index_files = glob.glob(\"html/*.html\")\n",
    "selected_companies = glob.glob(\"html/selected_companies/*.html\")\n",
    "top_companies = glob.glob(\"html/top_companies/*.html\")\n",
    "\n",
    "all_files = index_files + selected_companies + top_companies\n",
    "sub_files = top_companies + selected_companies\n",
    "all_files"
   ]
  },
  {
   "cell_type": "code",
   "execution_count": 106,
   "metadata": {},
   "outputs": [],
   "source": [
    "about = open(\"C:\\\\Users\\\\farad\\\\Documents\\\\GitHub\\\\GlassFloor\\\\Website\\\\html_blocks\\\\aboutusBS.html\").read()"
   ]
  },
  {
   "cell_type": "code",
   "execution_count": 110,
   "metadata": {},
   "outputs": [],
   "source": [
    "for file in all_files:\n",
    "    text = open(file, 'r').read().replace('<i class=\"fab fa-codepen\"></i>','<img src=\"images/glassfloor.png\" style=\"width:50px; height:50px;\">')\n",
    "    out = open(file, \"w\")\n",
    "    out.write(text)\n",
    "    out.close()"
   ]
  },
  {
   "cell_type": "code",
   "execution_count": 98,
   "metadata": {},
   "outputs": [],
   "source": []
  },
  {
   "cell_type": "code",
   "execution_count": null,
   "metadata": {},
   "outputs": [],
   "source": []
  },
  {
   "cell_type": "code",
   "execution_count": null,
   "metadata": {},
   "outputs": [],
   "source": [
    "'''\n",
    "\"selected_compnaies/\"\n",
    "\"employer_single_1.html\",\"CocaCola.html\"\n",
    "\"employer_single_3.html\",\"Delta_Airlines.html\"\n",
    "\"employer_single_4.html\",\"Home_Depot.html\"\n",
    "\"employer_single_6.html\",\"Norfolk_Southern.html\"\n",
    "\"employer_single_8.html\",\"Time_Warner.html\"\n",
    "\"\",\"\"\n",
    "\"\",\"\"\n",
    "'''"
   ]
  }
 ],
 "metadata": {
  "kernelspec": {
   "display_name": "Python 3",
   "language": "python",
   "name": "python3"
  },
  "language_info": {
   "codemirror_mode": {
    "name": "ipython",
    "version": 3
   },
   "file_extension": ".py",
   "mimetype": "text/x-python",
   "name": "python",
   "nbconvert_exporter": "python",
   "pygments_lexer": "ipython3",
   "version": "3.7.3"
  }
 },
 "nbformat": 4,
 "nbformat_minor": 4
}
