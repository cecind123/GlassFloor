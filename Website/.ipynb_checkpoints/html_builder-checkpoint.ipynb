{
 "cells": [
  {
   "cell_type": "code",
   "execution_count": 4,
   "metadata": {},
   "outputs": [],
   "source": [
    "def buildHTMLblock(path_to_htmlblock, to_be_replaced, to_relace_with):\n",
    "    \n",
    "    path_to_htmlblock = str(path_to_htmlblock)\n",
    "    to_be_replaced = list(to_be_replaced)\n",
    "    to_relace_with = list(to_relace_with)\n",
    "    \n",
    "    htmlblock = open(path_to_htmlblock, \"r\").read()\n",
    "    \n",
    "    for i in range(len(to_be_replaced)):\n",
    "        htmlblock = htmlblock.replace(to_be_replaced[i], to_replace_with[i])\n",
    "        \n",
    "    return htmlblock"
   ]
  },
  {
   "cell_type": "code",
   "execution_count": 3,
   "metadata": {},
   "outputs": [
    {
     "name": "stdout",
     "output_type": "stream",
     "text": [
      "0\n",
      "1\n",
      "2\n",
      "3\n"
     ]
    }
   ],
   "source": []
  },
  {
   "cell_type": "code",
   "execution_count": null,
   "metadata": {},
   "outputs": [],
   "source": []
  }
 ],
 "metadata": {
  "kernelspec": {
   "display_name": "Python 3",
   "language": "python",
   "name": "python3"
  },
  "language_info": {
   "codemirror_mode": {
    "name": "ipython",
    "version": 3
   },
   "file_extension": ".py",
   "mimetype": "text/x-python",
   "name": "python",
   "nbconvert_exporter": "python",
   "pygments_lexer": "ipython3",
   "version": "3.7.3"
  }
 },
 "nbformat": 4,
 "nbformat_minor": 4
}
