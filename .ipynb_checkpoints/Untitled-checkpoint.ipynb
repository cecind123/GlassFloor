{
 "cells": [
  {
   "cell_type": "code",
   "execution_count": 3,
   "metadata": {},
   "outputs": [],
   "source": [
    "import glob, os, pandas as pd, time"
   ]
  },
  {
   "cell_type": "code",
   "execution_count": 21,
   "metadata": {},
   "outputs": [
    {
     "name": "stdout",
     "output_type": "stream",
     "text": [
      "695432\n"
     ]
    }
   ],
   "source": [
    "files = glob.glob(\"Reviews/*.csv\")\n",
    "total_reviews = 0\n",
    "for file in files:\n",
    "    DF = pd.read_csv(file)\n",
    "    total_reviews += len(DF.index)\n",
    "print(total_reviews)"
   ]
  },
  {
   "cell_type": "code",
   "execution_count": 12,
   "metadata": {},
   "outputs": [],
   "source": [
    "while True:\n",
    "    files = glob.glob(\"Reviews/*.csv\")\n",
    "    total_reviews = 0\n",
    "    for file in files:\n",
    "        DF = pd.read_csv(file)\n",
    "        total_reviews += len(DF.index)\n",
    "    print(total_reviews)\n",
    "    time.sleep(180)"
   ]
  },
  {
   "cell_type": "code",
   "execution_count": 19,
   "metadata": {},
   "outputs": [
    {
     "data": {
      "text/plain": [
       "683"
      ]
     },
     "execution_count": 19,
     "metadata": {},
     "output_type": "execute_result"
    }
   ],
   "source": [
    "fortune500list = pd.read_csv(\"fortune500.csv\")\n",
    "company_list = list(fortune500list['company'])\n",
    "company_list.reverse()\n",
    "company_list.index(\"Charter Communications\")"
   ]
  },
  {
   "cell_type": "code",
   "execution_count": null,
   "metadata": {},
   "outputs": [],
   "source": [
    "files = glob.glob(\"Reviews/*.csv\")\n",
    "\n",
    "masterCSV = pd.read_csv(files[0])\n",
    "masterCSV.to_csv(\"Master_Reviews.csv\", index=False)\n",
    "\n",
    "files = files[1:]\n",
    "\n",
    "for file in files:\n",
    "    DF = pd.read_csv(file)\n",
    "    masterCSV = pd.read_csv(\"Master_Reviews.csv\")\n",
    "    if len(file.index) + len(master) \n",
    "    DF.to_csv(\"Master_Reviews.csv\", mode='a', index=False)"
   ]
  },
  {
   "cell_type": "code",
   "execution_count": null,
   "metadata": {},
   "outputs": [],
   "source": []
  },
  {
   "cell_type": "code",
   "execution_count": null,
   "metadata": {},
   "outputs": [],
   "source": []
  }
 ],
 "metadata": {
  "kernelspec": {
   "display_name": "Python 3",
   "language": "python",
   "name": "python3"
  },
  "language_info": {
   "codemirror_mode": {
    "name": "ipython",
    "version": 3
   },
   "file_extension": ".py",
   "mimetype": "text/x-python",
   "name": "python",
   "nbconvert_exporter": "python",
   "pygments_lexer": "ipython3",
   "version": "3.7.3"
  }
 },
 "nbformat": 4,
 "nbformat_minor": 4
}
