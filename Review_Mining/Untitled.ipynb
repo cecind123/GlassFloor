{
 "cells": [
  {
   "cell_type": "code",
   "execution_count": 2,
   "metadata": {},
   "outputs": [],
   "source": [
    "import glob, os, pandas as pd, time"
   ]
  },
  {
   "cell_type": "code",
   "execution_count": 141,
   "metadata": {},
   "outputs": [],
   "source": [
    "files = glob.glob(\"Reviews/*.csv\")\n",
    "print(f'File count: {len(files)}')\n",
    "total_reviews = 0\n",
    "for file in files:\n",
    "    DF = pd.read_csv(file)\n",
    "    total_reviews += len(DF.index)\n",
    "print(total_reviews)"
   ]
  },
  {
   "cell_type": "code",
   "execution_count": 31,
   "metadata": {},
   "outputs": [],
   "source": [
    "files = glob.glob(\"Reviews/*.csv\")\n",
    "DF_list = [pd.DataFrame(files) for file in files]\n",
    "MDF = DF_list[0]\n",
    "for df in DF_list[1:]:\n",
    "    MDF = MDF.append(df)\n",
    "\n",
    "MDF['rating'].value_counts()"
   ]
  },
  {
   "cell_type": "code",
   "execution_count": 41,
   "metadata": {},
   "outputs": [
    {
     "data": {
      "text/plain": [
       "0.7978197000154631"
      ]
     },
     "execution_count": 41,
     "metadata": {},
     "output_type": "execute_result"
    }
   ],
   "source": [
    "HD = glob.glob(\"Reviews/Time*.csv\")\n",
    "HDDF = pd.read_csv(HD[0])\n",
    "for csv in HD[1:]:\n",
    "    df = pd.read_csv(csv)\n",
    "    HDDF = HDDF.append(df)\n",
    "HDDF.loc[(HDDF['rating'] == 'good'),'rating'] = 1\n",
    "HDDF.loc[(HDDF['rating'] == 'bad'),'rating'] = 0\n",
    "HDDF = HDDF.drop(HDDF[(HDDF['rating'] != 0) & (HDDF['rating'] != 1)].index)\n",
    "HDDF = HDDF.dropna(how='any')\n",
    "HDDF = HDDF.drop_duplicates()\n",
    "sum(HDDF['rating'])/len(HDDF['rating'])"
   ]
  },
  {
   "cell_type": "code",
   "execution_count": null,
   "metadata": {},
   "outputs": [],
   "source": []
  },
  {
   "cell_type": "code",
   "execution_count": 32,
   "metadata": {},
   "outputs": [
    {
     "data": {
      "text/plain": [
       "good      1980057\n",
       "bad        629650\n",
       "rating       1029\n",
       "Name: rating, dtype: int64"
      ]
     },
     "execution_count": 32,
     "metadata": {},
     "output_type": "execute_result"
    }
   ],
   "source": [
    "files = glob.glob(\"Reviews/*.csv\")\n",
    "\n",
    "masterCSV = pd.read_csv(files[0])\n",
    "masterCSV.to_csv(\"Master_Reviews.csv\", index=False)\n",
    "\n",
    "files = files[1:]\n",
    "\n",
    "for file in files:\n",
    "    DF = pd.read_csv(file)\n",
    "    DF.to_csv(\"Master_Reviews.csv\", mode='a', index=False)\n",
    "\n",
    "masterCSV = pd.read_csv(\"Master_Reviews.csv\")\n",
    "masterCSV['rating'].value_counts()"
   ]
  },
  {
   "cell_type": "code",
   "execution_count": 172,
   "metadata": {},
   "outputs": [
    {
     "data": {
      "text/plain": [
       "2191572"
      ]
     },
     "execution_count": 172,
     "metadata": {},
     "output_type": "execute_result"
    }
   ],
   "source": [
    "masterCSV.loc[(masterCSV['rating'] == 'good'),'rating'] = '1'\n",
    "masterCSV.loc[(masterCSV['rating'] == 'bad'),'rating'] = '0'\n",
    "masterCSV = masterCSV.drop(masterCSV[(masterCSV['rating'] != '0') & (masterCSV['rating'] != '1')].index)\n",
    "masterCSV = masterCSV.dropna(how='any')\n",
    "masterCSV = masterCSV.drop_duplicates()\n",
    "\n",
    "masterCSV.to_csv(\"Master_Reviews.csv\", index=False)\n",
    "\n",
    "len(masterCSV.index)"
   ]
  },
  {
   "cell_type": "code",
   "execution_count": 173,
   "metadata": {},
   "outputs": [
    {
     "data": {
      "text/plain": [
       "1    1834315\n",
       "0     357257\n",
       "Name: rating, dtype: int64"
      ]
     },
     "execution_count": 173,
     "metadata": {},
     "output_type": "execute_result"
    }
   ],
   "source": [
    "masterCSV['rating'].value_counts()"
   ]
  },
  {
   "cell_type": "code",
   "execution_count": 29,
   "metadata": {},
   "outputs": [
    {
     "data": {
      "text/plain": [
       "1    1834315\n",
       "0     357257\n",
       "Name: rating, dtype: int64"
      ]
     },
     "execution_count": 29,
     "metadata": {},
     "output_type": "execute_result"
    }
   ],
   "source": [
    "import random\n",
    "DF = pd.read_csv(\"Master_Reviews.csv\")\n",
    "DF['rating'].value_counts()"
   ]
  },
  {
   "cell_type": "code",
   "execution_count": 11,
   "metadata": {},
   "outputs": [],
   "source": [
    "index_list = list(range(len(DF.index)))\n",
    "\n",
    "selections = random.choices(index_list, k=50000)"
   ]
  },
  {
   "cell_type": "code",
   "execution_count": 25,
   "metadata": {},
   "outputs": [],
   "source": [
    "newDF = pd.DataFrame([DF.iloc[i] for i in selections]).reset_index(drop=True)"
   ]
  },
  {
   "cell_type": "code",
   "execution_count": 28,
   "metadata": {},
   "outputs": [],
   "source": [
    "newDF.to_csv(\"Master_Sampling.csv\")"
   ]
  },
  {
   "cell_type": "code",
   "execution_count": 34,
   "metadata": {},
   "outputs": [
    {
     "data": {
      "text/plain": [
       "2464994"
      ]
     },
     "execution_count": 34,
     "metadata": {},
     "output_type": "execute_result"
    }
   ],
   "source": [
    "629650 + 1029 + 1834315"
   ]
  },
  {
   "cell_type": "code",
   "execution_count": null,
   "metadata": {},
   "outputs": [],
   "source": []
  }
 ],
 "metadata": {
  "kernelspec": {
   "display_name": "Python 3",
   "language": "python",
   "name": "python3"
  },
  "language_info": {
   "codemirror_mode": {
    "name": "ipython",
    "version": 3
   },
   "file_extension": ".py",
   "mimetype": "text/x-python",
   "name": "python",
   "nbconvert_exporter": "python",
   "pygments_lexer": "ipython3",
   "version": "3.7.3"
  }
 },
 "nbformat": 4,
 "nbformat_minor": 4
}
