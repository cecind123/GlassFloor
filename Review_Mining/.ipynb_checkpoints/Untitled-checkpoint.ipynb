{
 "cells": [
  {
   "cell_type": "code",
   "execution_count": 3,
   "metadata": {},
   "outputs": [],
   "source": [
    "import glob, os, pandas as pd, time"
   ]
  },
  {
   "cell_type": "code",
   "execution_count": 141,
   "metadata": {},
   "outputs": [
    {
     "name": "stdout",
     "output_type": "stream",
     "text": [
      "File count: 1030\n",
      "2609707\n"
     ]
    }
   ],
   "source": [
    "files = glob.glob(\"Reviews/*.csv\")\n",
    "print(f'File count: {len(files)}')\n",
    "total_reviews = 0\n",
    "for file in files:\n",
    "    DF = pd.read_csv(file)\n",
    "    total_reviews += len(DF.index)\n",
    "print(total_reviews)"
   ]
  },
  {
   "cell_type": "code",
   "execution_count": 172,
   "metadata": {},
   "outputs": [
    {
     "data": {
      "text/plain": [
       "2191572"
      ]
     },
     "execution_count": 172,
     "metadata": {},
     "output_type": "execute_result"
    }
   ],
   "source": [
    "files = glob.glob(\"Reviews/*.csv\")\n",
    "\n",
    "masterCSV = pd.read_csv(files[0])\n",
    "masterCSV.to_csv(\"Master_Reviews.csv\", index=False)\n",
    "\n",
    "files = files[1:]\n",
    "\n",
    "for file in files:\n",
    "    DF = pd.read_csv(file)\n",
    "    DF.to_csv(\"Master_Reviews.csv\", mode='a', index=False)\n",
    "\n",
    "masterCSV = pd.read_csv(\"Master_Reviews.csv\")\n",
    "\n",
    "masterCSV.loc[(masterCSV['rating'] == 'good'),'rating'] = '1'\n",
    "masterCSV.loc[(masterCSV['rating'] == 'bad'),'rating'] = '0'\n",
    "masterCSV = masterCSV.drop(masterCSV[(masterCSV['rating'] != '0') & (masterCSV['rating'] != '1')].index)\n",
    "masterCSV = masterCSV.dropna(how='any')\n",
    "masterCSV = masterCSV.drop_duplicates()\n",
    "\n",
    "masterCSV.to_csv(\"Master_Reviews.csv\", index=False)\n",
    "\n",
    "len(masterCSV.index)"
   ]
  },
  {
   "cell_type": "code",
   "execution_count": 173,
   "metadata": {},
   "outputs": [
    {
     "data": {
      "text/plain": [
       "1    1834315\n",
       "0     357257\n",
       "Name: rating, dtype: int64"
      ]
     },
     "execution_count": 173,
     "metadata": {},
     "output_type": "execute_result"
    }
   ],
   "source": [
    "masterCSV['rating'].value_counts()"
   ]
  },
  {
   "cell_type": "code",
   "execution_count": 174,
   "metadata": {},
   "outputs": [],
   "source": [
    "masterCSV = None"
   ]
  },
  {
   "cell_type": "code",
   "execution_count": null,
   "metadata": {},
   "outputs": [],
   "source": []
  }
 ],
 "metadata": {
  "kernelspec": {
   "display_name": "Python 3",
   "language": "python",
   "name": "python3"
  },
  "language_info": {
   "codemirror_mode": {
    "name": "ipython",
    "version": 3
   },
   "file_extension": ".py",
   "mimetype": "text/x-python",
   "name": "python",
   "nbconvert_exporter": "python",
   "pygments_lexer": "ipython3",
   "version": "3.7.3"
  }
 },
 "nbformat": 4,
 "nbformat_minor": 4
}
